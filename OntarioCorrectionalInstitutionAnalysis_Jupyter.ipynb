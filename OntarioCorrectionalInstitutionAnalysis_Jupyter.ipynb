{
 "cells": [
  {
   "cell_type": "code",
   "execution_count": 27,
   "id": "9bd1dfda",
   "metadata": {},
   "outputs": [
    {
     "ename": "SyntaxError",
     "evalue": "invalid syntax (733761480.py, line 1)",
     "output_type": "error",
     "traceback": [
      "\u001b[1;36m  File \u001b[1;32m\"C:\\Users\\shilp\\AppData\\Local\\Temp\\ipykernel_10244\\733761480.py\"\u001b[1;36m, line \u001b[1;32m1\u001b[0m\n\u001b[1;33m    https://data.ontario.ca/en/dataset/ontario-s-correctional-institutions-locations\u001b[0m\n\u001b[1;37m          ^\u001b[0m\n\u001b[1;31mSyntaxError\u001b[0m\u001b[1;31m:\u001b[0m invalid syntax\n"
     ]
    }
   ],
   "source": [
    "https://data.ontario.ca/en/dataset/ontario-s-correctional-institutions-locations"
   ]
  },
  {
   "cell_type": "code",
   "execution_count": 28,
   "id": "95be8cfc",
   "metadata": {},
   "outputs": [],
   "source": [
    "import pandas as pd\n",
    "import matplotlib.pyplot as plt\n",
    "import seaborn as sns\n",
    "%matplotlib inline\n",
    "import numpy as np\n",
    "from sklearn.model_selection import train_test_split\n",
    "from sklearn.neighbors import KNeighborsClassifier\n",
    "from sklearn.metrics import accuracy_score"
   ]
  },
  {
   "cell_type": "code",
   "execution_count": 29,
   "id": "3603b789",
   "metadata": {
    "scrolled": false
   },
   "outputs": [
    {
     "name": "stdout",
     "output_type": "stream",
     "text": [
      "                                          Institution  \\\n",
      "0                  Algoma Treatment and Remand Centre   \n",
      "1                                     Brockville Jail   \n",
      "2                    Central East Correctional Centre   \n",
      "3                   Central North Correctional Centre   \n",
      "4                    Elgin-Middlesex Detention Centre   \n",
      "5                                   Fort Frances Jail   \n",
      "6                 Hamilton-Wentworth Detention Centre   \n",
      "7                                         Kenora Jail   \n",
      "8                     Maplehurst Correctional Complex   \n",
      "9                       Monteith Correctional Complex   \n",
      "10                           Niagara Detention Centre   \n",
      "11                                     North Bay Jail   \n",
      "12                     Ontario Correctional Institute   \n",
      "13                   Ottawa-Carleton Detention Centre   \n",
      "14                            Quinte Detention Centre   \n",
      "15                                        Sarnia Jail   \n",
      "16                        South West Detention Centre   \n",
      "17  St. Lawrence Valley Correctional and Treatment...   \n",
      "18                                     Stratford Jail   \n",
      "19                                       Sudbury Jail   \n",
      "20                    Thunder Bay Correctional Centre   \n",
      "21                                   Thunder Bay Jail   \n",
      "22                      Toronto East Detention Centre   \n",
      "23                        Toronto Intermittent Centre   \n",
      "24                     Toronto South Detention Centre   \n",
      "25                            Vanier Centre for Women   \n",
      "26                                     Brantford Jail   \n",
      "27                                       Chatham Jail   \n",
      "28                         Mimico Correctional Centre   \n",
      "29                                      Monteith Jail   \n",
      "30                                    Owen Sound Jail   \n",
      "31                                       Toronto Jail   \n",
      "32                      Toronto West Detention Centre   \n",
      "33                                     Walkerton Jail   \n",
      "34                                       Windsor Jail   \n",
      "\n",
      "                    Facility_Type         Gender    Region  \\\n",
      "0                Treatment Centre  Women and Men  Northern   \n",
      "1                            Jail            Men   Eastern   \n",
      "2             Correctional Centre  Women and Men   Eastern   \n",
      "3             Correctional Centre  Women and Men   Western   \n",
      "4                Detention Centre  Women and Men   Western   \n",
      "5                            Jail  Women and Men  Northern   \n",
      "6                Detention Centre  Women and Men   Central   \n",
      "7                            Jail  Women and Men  Northern   \n",
      "8             Correctional Centre            Men   Central   \n",
      "9             Correctional Centre  Women and Men  Northern   \n",
      "10               Detention Centre  Women and Men   Central   \n",
      "11                           Jail  Women and Men  Northern   \n",
      "12  Correctional/Treatment Centre            Men   Central   \n",
      "13               Detention Centre  Women and Men   Eastern   \n",
      "14               Detention Centre  Women and Men   Eastern   \n",
      "15                           Jail  Women and Men   Western   \n",
      "16               Detention Centre  Women and Men   Western   \n",
      "17  Correctional/Treatment Centre            Men   Eastern   \n",
      "18                           Jail            Men   Western   \n",
      "19                           Jail  Women and Men  Northern   \n",
      "20            Correctional Centre  Women and Men  Northern   \n",
      "21                           Jail            Men  Northern   \n",
      "22               Detention Centre            Men   Toronto   \n",
      "23               Detention Centre            Men   Toronto   \n",
      "24               Detention Centre            Men   Toronto   \n",
      "25  Correctional/Treatment Centre          Women   Central   \n",
      "26                           Jail            Men   Central   \n",
      "27                           Jail            Men   Western   \n",
      "28            Correctional Centre            Men   Toronto   \n",
      "29                           Jail  Women and Men  Northern   \n",
      "30                           Jail  Women and Men  Northern   \n",
      "31                           Jail            Men   Toronto   \n",
      "32               Detention Centre            Men   Toronto   \n",
      "33                           Jail  Women and Men  Northern   \n",
      "34                           Jail  Women and Men   Western   \n",
      "\n",
      "                                  Street              City Province Country  \\\n",
      "0                  800 Great Northern Rd  Sault Ste. Marie  Ontario  Canada   \n",
      "1                         10 Wall Street        Brockville  Ontario  Canada   \n",
      "2                         541 Highway 36           Lindsay  Ontario  Canada   \n",
      "3                     1501 Fuller Avenue   Penetanguishene  Ontario  Canada   \n",
      "4                        711 Exeter Road            London  Ontario  Canada   \n",
      "5                      310 Nelson Street      Fort Frances  Ontario  Canada   \n",
      "6                 165 Barton Street East          Hamilton  Ontario  Canada   \n",
      "7                      1430 River Street            Kenora  Ontario  Canada   \n",
      "8                      661 Martin Street            Milton  Ontario  Canada   \n",
      "9                         3052 Rese Road          Monteith  Ontario  Canada   \n",
      "10               1355 Uppers Lane Hwy 58           Thorold  Ontario  Canada   \n",
      "11                  2550 Trout Lake Road         North Bay  Ontario  Canada   \n",
      "12              109 McLaughin Road South          Brampton  Ontario  Canada   \n",
      "13                       2244 Innes Road            Ottawa  Ontario  Canada   \n",
      "14                89 Richmond Boulevard            Napanee  Ontario  Canada   \n",
      "15           700 North Christina Street             Sarnia  Ontario  Canada   \n",
      "16              4819 8th Concession Road         Maidstone  Ontario  Canada   \n",
      "17                          1804 Hwy 2 E        Brockville  Ontario  Canada   \n",
      "18                  30 St. Andrew Street         Stratford  Ontario  Canada   \n",
      "19                   181 Elm Street West           Sudbury  Ontario  Canada   \n",
      "20                 2351 Highway 61 South      Thunder Bay   Ontario  Canada   \n",
      "21  285 MacDougall Street, P.O.Box 2806        Thunder Bay  Ontario  Canada   \n",
      "22                         55 Civic Road       Scarborough  Ontario  Canada   \n",
      "23                     160 Horner Avenue           Toronto  Ontario  Canada   \n",
      "24                     160 Horner Avenue           Toronto  Ontario  Canada   \n",
      "25                     655 Martin Street            Milton  Ontario  Canada   \n",
      "26                        105 Market St.         Brantford  Ontario  Canada   \n",
      "27                        17 Seventh St.           Chatham  Ontario  Canada   \n",
      "28                     130 Horner Avenue           Toronto  Ontario  Canada   \n",
      "29                        3052 Rese Road          Monteith  Ontario  Canada   \n",
      "30                        1237 3rd Ave E        Owen Sound  Ontario  Canada   \n",
      "31                     550 Gerrard St. E           Toronto  Ontario  Canada   \n",
      "32                        111 Disco Road           Toronto  Ontario  Canada   \n",
      "33                        209 Cayley St.         Walkerton  Ontario  Canada   \n",
      "34                         378 Brock St.           Windsor  Ontario  Canada   \n",
      "\n",
      "   Postal_Code   Latitude  Longitude Operating_Status  Year_Opened  \\\n",
      "0      P6B 0B5  46.550041 -84.315488             Open         1990   \n",
      "1      K6V 4R9  44.591072 -75.685560             Open         1842   \n",
      "2      K9V 4S6  44.379267 -78.730342             Open         2002   \n",
      "3      L9M 2H4  44.799251 -79.923531             Open         2001   \n",
      "4      N6E 1L3  42.920803 -81.224303             Open         1977   \n",
      "5      P9A 1B1  48.608085 -93.394800             Open         1907   \n",
      "6      L8L 2W6  43.263267 -79.858734             Open         1978   \n",
      "7      P9N 1K5  49.760542 -94.465081             Open         1926   \n",
      "8      L9T 2Y3  43.525747 -79.898341             Open         1975   \n",
      "9      P0K 1P0  48.641872 -80.678001             Open         1965   \n",
      "10     L2V 4A6  43.087112 -79.196749             Open         1973   \n",
      "11     P1B 7S7  46.324020 -79.433549             Open         1930   \n",
      "12     L6Y 2C8  43.669681 -79.765659             Open         1973   \n",
      "13     K1B 4C4  45.424330 -75.579237             Open         1972   \n",
      "14     K7R 3S1  44.263144 -76.960813             Open         1971   \n",
      "15     N7V 3C2  42.989253 -82.394834             Open         1961   \n",
      "16     N0R 1K0  42.250031 -82.949700             Open         2014   \n",
      "17     K6V 7N2  44.606631 -75.666831             Open         2003   \n",
      "18     N5A 1A3  43.371247 -80.985895             Open         1901   \n",
      "19     P3C 1T8  46.492809 -81.002629             Open         1929   \n",
      "20     P7C 4Y4  48.310749 -89.377572             Open         1911   \n",
      "21     P7A 2K6  48.452287 -89.199776             Open         1926   \n",
      "22     M1L 2K9  43.727274 -79.281333             Open         1977   \n",
      "23     M8Z 0C2  43.610067 -79.516187             Open         2014   \n",
      "24     M8Z 0C2  43.610067 -79.516187             Open         2014   \n",
      "25     L9T 5E6  43.526838 -79.898405             Open         2003   \n",
      "26     N3T 6A9  43.142040 -80.263340           Closed         1852   \n",
      "27     N7M 4J9  42.409552 -82.179748           Closed         1849   \n",
      "28     M8Z 4Y1  43.612085 -79.516276           Closed         1952   \n",
      "29     P0K 1P0  48.641716 -80.677937           Closed         1938   \n",
      "30     N4K 2L6  44.571834 -80.938742           Closed         1854   \n",
      "31     M4M 2B5  43.666054 -79.354257           Closed         1864   \n",
      "32     M9W 1M3  43.699482 -79.597895           Closed         1976   \n",
      "33     N0G 2V0  44.130997 -81.150042           Closed         1866   \n",
      "34     N9C 3Y6  42.299983 -83.075523           Closed         1925   \n",
      "\n",
      "    Year_Closed  \n",
      "0           NaN  \n",
      "1           NaN  \n",
      "2           NaN  \n",
      "3           NaN  \n",
      "4           NaN  \n",
      "5           NaN  \n",
      "6           NaN  \n",
      "7           NaN  \n",
      "8           NaN  \n",
      "9           NaN  \n",
      "10          NaN  \n",
      "11          NaN  \n",
      "12          NaN  \n",
      "13          NaN  \n",
      "14          NaN  \n",
      "15          NaN  \n",
      "16          NaN  \n",
      "17          NaN  \n",
      "18          NaN  \n",
      "19          NaN  \n",
      "20          NaN  \n",
      "21          NaN  \n",
      "22          NaN  \n",
      "23          NaN  \n",
      "24          NaN  \n",
      "25          NaN  \n",
      "26       2017.0  \n",
      "27       2014.0  \n",
      "28       2012.0  \n",
      "29       2014.0  \n",
      "30       2012.0  \n",
      "31       2014.0  \n",
      "32       2014.0  \n",
      "33       2012.0  \n",
      "34       2014.0  \n"
     ]
    }
   ],
   "source": [
    "#Print CSV file\n",
    "\n",
    "df = pd.read_csv('institutionallocations_en.csv')\n",
    "print(df)"
   ]
  },
  {
   "cell_type": "code",
   "execution_count": 30,
   "id": "5bdd7676",
   "metadata": {},
   "outputs": [
    {
     "data": {
      "text/plain": [
       "Open      26\n",
       "Closed     9\n",
       "Name: Operating_Status, dtype: int64"
      ]
     },
     "execution_count": 30,
     "metadata": {},
     "output_type": "execute_result"
    }
   ],
   "source": [
    "#As we can see here the majority of locations are open at 26 out of 35.\n",
    "#This fulfills our hypothesis that due to the large population of Ontario it would be wise to leave the majority of \n",
    "\n",
    "df.Operating_Status.value_counts()"
   ]
  },
  {
   "cell_type": "code",
   "execution_count": 31,
   "id": "9c284ec2",
   "metadata": {},
   "outputs": [
    {
     "data": {
      "text/plain": [
       "<AxesSubplot:>"
      ]
     },
     "execution_count": 31,
     "metadata": {},
     "output_type": "execute_result"
    },
    {
     "data": {
      "image/png": "[encoded data removed]",
      "text/plain": [
       "<Figure size 640x480 with 1 Axes>"
      ]
     },
     "metadata": {},
     "output_type": "display_data"
    }
   ],
   "source": [
    "df.Operating_Status.hist()"
   ]
  },
  {
   "cell_type": "code",
   "execution_count": 32,
   "id": "b6a43117",
   "metadata": {},
   "outputs": [
    {
     "data": {
      "text/plain": [
       "Toronto             5\n",
       "Milton              2\n",
       "Monteith            2\n",
       "Brockville          2\n",
       "Sault Ste. Marie    1\n",
       "Maidstone           1\n",
       "Walkerton           1\n",
       "Owen Sound          1\n",
       "Chatham             1\n",
       "Brantford           1\n",
       "Scarborough         1\n",
       "Thunder Bay         1\n",
       "Thunder Bay         1\n",
       "Sudbury             1\n",
       "Stratford           1\n",
       "Napanee             1\n",
       "Sarnia              1\n",
       "Ottawa              1\n",
       "Brampton            1\n",
       "North Bay           1\n",
       "Thorold             1\n",
       "Kenora              1\n",
       "Hamilton            1\n",
       "Fort Frances        1\n",
       "London              1\n",
       "Penetanguishene     1\n",
       "Lindsay             1\n",
       "Windsor             1\n",
       "Name: City, dtype: int64"
      ]
     },
     "execution_count": 32,
     "metadata": {},
     "output_type": "execute_result"
    }
   ],
   "source": [
    "df.City.value_counts()"
   ]
  },
  {
   "cell_type": "code",
   "execution_count": 33,
   "id": "77ddeaa9",
   "metadata": {},
   "outputs": [
    {
     "data": {
      "text/plain": [
       "Northern    11\n",
       "Western      7\n",
       "Central      6\n",
       "Toronto      6\n",
       "Eastern      5\n",
       "Name: Region, dtype: int64"
      ]
     },
     "execution_count": 33,
     "metadata": {},
     "output_type": "execute_result"
    }
   ],
   "source": [
    "#While the Toronto Region may have the most amount of people out of any of the 5 regions of Ontario it only has 6 correctional institutions out of 35\n",
    "#Taking this into account, one can also see that the sparcely populated Northern Region of Ontario (with roughly 6 percent of the total population of the province) has 11 facilities as a whole. The largest amount of any region.\n",
    "#This fulfills our hypothesis that the majority of facilities would be located in the areas of the province with the smallest population.\n",
    "\n",
    "df.Region.value_counts()"
   ]
  },
  {
   "cell_type": "code",
   "execution_count": 34,
   "id": "f442c379",
   "metadata": {},
   "outputs": [
    {
     "data": {
      "text/plain": [
       "<AxesSubplot:>"
      ]
     },
     "execution_count": 34,
     "metadata": {},
     "output_type": "execute_result"
    },
    {
     "data": {
      "image/png": "[encoded data removed]",
      "text/plain": [
       "<Figure size 640x480 with 1 Axes>"
      ]
     },
     "metadata": {},
     "output_type": "display_data"
    }
   ],
   "source": [
    "df.Region.hist()\n"
   ]
  },
  {
   "cell_type": "code",
   "execution_count": 35,
   "id": "55114d2e",
   "metadata": {},
   "outputs": [
    {
     "data": {
      "text/plain": [
       "Jail                             15\n",
       "Detention Centre                 10\n",
       "Correctional Centre               6\n",
       "Correctional/Treatment Centre     3\n",
       "Treatment Centre                  1\n",
       "Name: Facility_Type, dtype: int64"
      ]
     },
     "execution_count": 35,
     "metadata": {},
     "output_type": "execute_result"
    }
   ],
   "source": [
    "#While Jails may be the largest single category in terms of instances, they represent only a fraction of the total number of facilities that include Detention, Correctional, Treatment and dual Correction/Treatment centres. \n",
    "#This amounts to 15 out of 35\n",
    "#This fulfills out hypothesis that Jails would not make up the majority of facilities in the province due to a relative lack of overall crime committed that would warrant jail time in comparison to other forms of law breaking.\n",
    "\n",
    "df.Facility_Type.value_counts()"
   ]
  },
  {
   "cell_type": "code",
   "execution_count": 36,
   "id": "9c5c7175",
   "metadata": {},
   "outputs": [
    {
     "data": {
      "text/plain": [
       "<AxesSubplot:>"
      ]
     },
     "execution_count": 36,
     "metadata": {},
     "output_type": "execute_result"
    },
    {
     "data": {
      "image/png": "[encoded data removed]",
      "text/plain": [
       "<Figure size 640x480 with 1 Axes>"
      ]
     },
     "metadata": {},
     "output_type": "display_data"
    }
   ],
   "source": [
    "df.Facility_Type.hist()\n"
   ]
  },
  {
   "cell_type": "code",
   "execution_count": 37,
   "id": "85828798",
   "metadata": {},
   "outputs": [
    {
     "data": {
      "text/plain": [
       "Women and Men    20\n",
       "Men              14\n",
       "Women             1\n",
       "Name: Gender, dtype: int64"
      ]
     },
     "execution_count": 37,
     "metadata": {},
     "output_type": "execute_result"
    }
   ],
   "source": [
    "#Our hypothesis regarding Gender values was that the majority of facilities in the provinces would be Men dominated as we theorised that Men would be the ones most likely to get into confrontations with the law.\n",
    "#We did not take into account the idea that there could be mixed Gender facilities for both Women and Men, those of which take up 20 out 35 of the total number correctional institutions in the province.\n",
    "\n",
    "df.Gender.value_counts()"
   ]
  },
  {
   "cell_type": "code",
   "execution_count": 38,
   "id": "f057db78",
   "metadata": {},
   "outputs": [
    {
     "data": {
      "text/plain": [
       "<AxesSubplot:>"
      ]
     },
     "execution_count": 38,
     "metadata": {},
     "output_type": "execute_result"
    },
    {
     "data": {
      "image/png": "[encoded data removed]",
      "text/plain": [
       "<Figure size 640x480 with 1 Axes>"
      ]
     },
     "metadata": {},
     "output_type": "display_data"
    }
   ],
   "source": [
    "df.Gender.hist()"
   ]
  },
  {
   "cell_type": "code",
   "execution_count": null,
   "id": "61ff3fb0",
   "metadata": {},
   "outputs": [],
   "source": [
    "#As a whole, 3 out of 4 of our hypotheses were fulfilled. The one experiment where the result ran contrary to our hypothesis was the Gender examination\n"
   ]
  }
 ],
 "metadata": {
  "kernelspec": {
   "display_name": "Python 3 (ipykernel)",
   "language": "python",
   "name": "python3"
  },
  "language_info": {
   "codemirror_mode": {
    "name": "ipython",
    "version": 3
   },
   "file_extension": ".py",
   "mimetype": "text/x-python",
   "name": "python",
   "nbconvert_exporter": "python",
   "pygments_lexer": "ipython3",
   "version": "3.9.13"
  }
 },
 "nbformat": 4,
 "nbformat_minor": 5
}
